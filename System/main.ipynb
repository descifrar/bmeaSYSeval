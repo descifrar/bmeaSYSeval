{
 "cells": [
  {
   "cell_type": "code",
   "execution_count": 5,
   "id": "initial_id",
   "metadata": {
    "collapsed": true,
    "ExecuteTime": {
     "end_time": "2024-07-14T13:57:18.526472Z",
     "start_time": "2024-07-14T13:57:18.497578700Z"
    }
   },
   "outputs": [],
   "source": [
    "import pandas as pd\n",
    "import os\n",
    "from util import *"
   ]
  },
  {
   "cell_type": "code",
   "execution_count": 6,
   "outputs": [],
   "source": [
    "DATA_FILE = os.path.join(\"data\", \"EURCAD-EURGBP-EURUSD-XAUUSD_M1_20190101_20240623.csv\")\n",
    "\n",
    "# Read the CSV data into a DataFrame\n",
    "df = pd.read_csv(DATA_FILE)\n",
    "N = 50_000  # Number of rows to use from the DataFrame for the strategy\n",
    "df = df[:N]"
   ],
   "metadata": {
    "collapsed": false,
    "ExecuteTime": {
     "end_time": "2024-07-14T13:57:19.335458800Z",
     "start_time": "2024-07-14T13:57:19.167437400Z"
    }
   },
   "id": "485a34fddd81de9a"
  },
  {
   "cell_type": "code",
   "execution_count": 7,
   "outputs": [
    {
     "name": "stdout",
     "output_type": "stream",
     "text": [
      "Deposit: 8448.33355800002\n"
     ]
    }
   ],
   "source": [
    "# Initialize the strategy with the DataFrame containing trading data\n",
    "strategy = Strategy(df=df)\n",
    "\n",
    "# Define parameters for the strategy, including moving averages for each ticker\n",
    "params = {\n",
    "    \"MA\": {\n",
    "        \"EURCAD\": {\"MA_slow\": 25, \"MA_fast\": 10},\n",
    "        \"EURGBP\": {\"MA_slow\": 25, \"MA_fast\": 10},\n",
    "        \"EURUSD\": {\"MA_slow\": 25, \"MA_fast\": 10},\n",
    "        \"XAUUSD\": {\"MA_slow\": 25, \"MA_fast\": 10}\n",
    "    }\n",
    "}\n",
    "\n",
    "# Set the strategy parameters\n",
    "strategy.set_params(params=params)\n",
    "\n",
    "# Define trade costs\n",
    "trade_costs = {\n",
    "    \"spread\": {\"default\": 0.2, \"EURUSD\": 0.1},  # Spread cost, with a specific value for EURUSD\n",
    "    \"comission\": {\"default\": 0.01},  # Commission cost\n",
    "    \"swap\": {\"default\": 1, \"EURUSD\": 0.5}  # Swap cost, with a specific value for EURUSD\n",
    "}\n",
    "\n",
    "# Set trade costs\n",
    "strategy.set_trade_costs(trade_costs=trade_costs)\n",
    "\n",
    "# Evaluate the strategy by applying it to the DataFrame\n",
    "strategy.evaluate()\n",
    "\n",
    "# Print the final deposit value after evaluation\n",
    "print(\"Deposit:\", strategy.df['deposit'].iloc[-1])\n"
   ],
   "metadata": {
    "collapsed": false,
    "ExecuteTime": {
     "end_time": "2024-07-14T13:57:43.823901200Z",
     "start_time": "2024-07-14T13:57:23.035003300Z"
    }
   },
   "id": "e1dfc14551a649c3"
  },
  {
   "cell_type": "code",
   "execution_count": 6,
   "outputs": [],
   "source": [
    "# Description of key strategy attributes\n",
    "\n",
    "# strategy.closed_trades\n",
    "# This dictionary holds lists of all closed trades, organized by ticker symbol.\n",
    "# Each closed trade contains details such as the opening and closing prices,\n",
    "# the profit or loss, and the reason for closing (e.g., hitting stop-loss, take-profit, or a strategy signal).\n",
    "# It provides a historical record of all trades that have been closed.\n",
    "# print(\"Closed Trades:\", strategy.closed_trades)\n",
    "\n",
    "# strategy.df\n",
    "# This DataFrame is a processed version of the original input data, containing additional columns\n",
    "# such as moving averages and signals used by the strategy. It also includes a 'deposit' column\n",
    "# that tracks the value of the deposit over time, updated after each trade.\n",
    "# This DataFrame is essential for understanding the state of the strategy at each point in time.\n",
    "# print(\"Processed DataFrame:\\n\", strategy.df)\n",
    "\n",
    "# strategy.number_of_open_trades_in_the_end\n",
    "# This integer indicates the number of open trades remaining at the end of the evaluation.\n",
    "# It helps in understanding if the strategy tends to leave trades open or if it prefers to close them within the evaluation period.\n",
    "# print(\"Number of Open Trades in the End:\", strategy.number_of_open_trades_in_the_end)\n",
    "\n",
    "# strategy.trades_by_strategy\n",
    "# This integer counts the number of trades that were closed as a direct result of the strategy's signals.\n",
    "# It indicates how often the strategy's logic is applied to close trades, providing insight into its activity level.\n",
    "# print(\"Trades Closed by Strategy:\", strategy.trades_by_strategy)\n",
    "\n",
    "# strategy.trades_not_by_strategy\n",
    "# This integer counts the number of trades that were closed due to reasons other than the strategy's signals,\n",
    "# such as data issues or manual interventions. It helps in identifying any anomalies or external factors affecting the strategy.\n",
    "# print(\"Trades Not Closed by Strategy:\", strategy.trades_not_by_strategy)\n",
    "\n",
    "# strategy.open_trades\n",
    "# This dictionary holds the currently open trades, organized by ticker symbol.\n",
    "# Each open trade contains details such as the opening price, size, and any associated stop-loss or take-profit levels.\n",
    "# It helps in understanding the current exposure and potential future actions of the strategy.\n",
    "# print(\"Open Trades:\", strategy.open_trades)\n"
   ],
   "metadata": {
    "collapsed": false,
    "ExecuteTime": {
     "end_time": "2024-07-13T22:35:05.367814200Z",
     "start_time": "2024-07-13T22:35:05.310739600Z"
    }
   },
   "id": "247aa8733c521bfd"
  },
  {
   "cell_type": "code",
   "execution_count": null,
   "outputs": [],
   "source": [],
   "metadata": {
    "collapsed": false
   },
   "id": "ae275ec167f7d14c"
  },
  {
   "cell_type": "code",
   "execution_count": null,
   "outputs": [],
   "source": [],
   "metadata": {
    "collapsed": false
   },
   "id": "6173bdef2fa63cc0"
  },
  {
   "cell_type": "code",
   "execution_count": null,
   "outputs": [],
   "source": [],
   "metadata": {
    "collapsed": false
   },
   "id": "bc83e955e185e4fb"
  }
 ],
 "metadata": {
  "kernelspec": {
   "display_name": "Python 3",
   "language": "python",
   "name": "python3"
  },
  "language_info": {
   "codemirror_mode": {
    "name": "ipython",
    "version": 2
   },
   "file_extension": ".py",
   "mimetype": "text/x-python",
   "name": "python",
   "nbconvert_exporter": "python",
   "pygments_lexer": "ipython2",
   "version": "2.7.6"
  }
 },
 "nbformat": 4,
 "nbformat_minor": 5
}
